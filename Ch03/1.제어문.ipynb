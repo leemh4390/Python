{
 "cells": [
  {
   "cell_type": "code",
   "execution_count": 1,
   "metadata": {},
   "outputs": [
    {
     "data": {
      "text/plain": [
       "'\\n날짜 :\\n이름 : \\n내용 : 파이썬 조건문 실습하기\\n'"
      ]
     },
     "execution_count": 1,
     "metadata": {},
     "output_type": "execute_result"
    }
   ],
   "source": [
    "\"\"\"\n",
    "날짜 : 2023/01/03\n",
    "이름 : 이민혁\n",
    "내용 : 파이썬 조건문 실습하기\n",
    "\"\"\""
   ]
  },
  {
   "cell_type": "code",
   "execution_count": 7,
   "metadata": {},
   "outputs": [
    {
     "name": "stdout",
     "output_type": "stream",
     "text": [
      "num1 은 0보다 크다.\n",
      "num1 은 num2 보다 작다\n",
      "num1 은  0보다 크고, num2 는  1보다 크다\n",
      "num1 은  0보다 크고, num2 는  1보다 크다\n"
     ]
    }
   ],
   "source": [
    "# if\n",
    "num1, num2 = 1, 2\n",
    "\n",
    "if num1 > 0:\n",
    "    print('num1 은 0보다 크다.')\n",
    "\n",
    "if num1 > num2:\n",
    "    print('num1 은 num2 보다 크다')\n",
    "\n",
    "if num1 < num2:\n",
    "    print('num1 은 num2 보다 작다')\n",
    "\n",
    "if num1 > 0:\n",
    "    if num2 > 1:\n",
    "        print('num1 은  0보다 크고, num2 는  1보다 크다')\n",
    "\n",
    "if num1 > 0 and num2 > 1:\n",
    "    print('num1 은  0보다 크고, num2 는  1보다 크다')"
   ]
  },
  {
   "cell_type": "code",
   "execution_count": 9,
   "metadata": {},
   "outputs": [
    {
     "name": "stdout",
     "output_type": "stream",
     "text": [
      "num3 가 num4 보다 작다\n"
     ]
    }
   ],
   "source": [
    "# if ~ else\n",
    "\n",
    "num3 , num4  = 3, 4\n",
    "\n",
    "if num3 > num4:\n",
    "    print('num3 가 num4 보다 크다')\n",
    "else:\n",
    "    print('num3 가 num4 보다 작다')\n"
   ]
  },
  {
   "cell_type": "code",
   "execution_count": 11,
   "metadata": {},
   "outputs": [
    {
     "name": "stdout",
     "output_type": "stream",
     "text": [
      "num4 가 가장 크다\n"
     ]
    }
   ],
   "source": [
    "# if ~ elif ~ else\n",
    "\n",
    "num1, num2, num3, num4 = 1, 2, 3, 4\n",
    "\n",
    "if num1 > num2:\n",
    "    print('num1 은  num2 보다 크다')\n",
    "elif num2 > num3:\n",
    "    print('num2 는 num3 보다 크다')\n",
    "elif num3 > num4:\n",
    "    print('num3 은 num4 보다 크다')\n",
    "else:\n",
    "    print('num4 가 가장 크다')"
   ]
  },
  {
   "cell_type": "code",
   "execution_count": 29,
   "metadata": {},
   "outputs": [
    {
     "name": "stdout",
     "output_type": "stream",
     "text": [
      "A입니다.\n"
     ]
    }
   ],
   "source": [
    "# 연습문제\n",
    "score = int(input('점수 입력 : '))\n",
    "\n",
    "score = score/10\n",
    "\n",
    "if score > 10:\n",
    "    print('100 미만의 숫자를 입력해주세요.')\n",
    "elif score >= 9:\n",
    "    print('A입니다.')\n",
    "elif score >= 8:\n",
    "    print('B입니다.')\n",
    "elif score >= 7:\n",
    "    print('C입니다.')\n",
    "elif score >= 6:\n",
    "    print('D입니다.')\n",
    "else:\n",
    "    print('미달입니다.')\n"
   ]
  }
 ],
 "metadata": {
  "kernelspec": {
   "display_name": "Python 3",
   "language": "python",
   "name": "python3"
  },
  "language_info": {
   "codemirror_mode": {
    "name": "ipython",
    "version": 3
   },
   "file_extension": ".py",
   "mimetype": "text/x-python",
   "name": "python",
   "nbconvert_exporter": "python",
   "pygments_lexer": "ipython3",
   "version": "3.11.1 (tags/v3.11.1:a7a450f, Dec  6 2022, 19:58:39) [MSC v.1934 64 bit (AMD64)]"
  },
  "orig_nbformat": 4,
  "vscode": {
   "interpreter": {
    "hash": "ca3167030a8377a7b82d5e665b459d458267ba920e721652be188ae573e682bb"
   }
  }
 },
 "nbformat": 4,
 "nbformat_minor": 2
}
