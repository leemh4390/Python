{
 "cells": [
  {
   "cell_type": "code",
   "execution_count": null,
   "metadata": {},
   "outputs": [
    {
     "data": {
      "text/plain": [
       "'\\n날짜 : 2023/01/03\\n이름 : 이민혁\\n내용 : 파이썬 반복문 실습하기\\n'"
      ]
     },
     "execution_count": 1,
     "metadata": {},
     "output_type": "execute_result"
    }
   ],
   "source": [
    "\"\"\"\n",
    "날짜 : 2023/01/03\n",
    "이름 : 이민혁\n",
    "내용 : 파이썬 반복문 실습하기\n",
    "\"\"\""
   ]
  },
  {
   "cell_type": "code",
   "execution_count": 11,
   "metadata": {},
   "outputs": [
    {
     "name": "stdout",
     "output_type": "stream",
     "text": [
      "i : 1\n",
      "i : 2\n",
      "i : 3\n",
      "i : 4\n",
      "i : 5\n"
     ]
    }
   ],
   "source": [
    "# while\n",
    "\n",
    "i = 1\n",
    "\n",
    "while i <= 5:\n",
    "    print('i :', i)\n",
    "\n",
    "    i+= 1"
   ]
  },
  {
   "cell_type": "code",
   "execution_count": 12,
   "metadata": {},
   "outputs": [
    {
     "name": "stdout",
     "output_type": "stream",
     "text": [
      "total :  55\n"
     ]
    }
   ],
   "source": [
    "# 1부터 10까지의 합\n",
    "\n",
    "i = 1\n",
    "total = 0\n",
    "\n",
    "while i <= 10:\n",
    "    total += i\n",
    "    i += 1\n",
    "print('total : ', total)"
   ]
  },
  {
   "cell_type": "code",
   "execution_count": 8,
   "metadata": {},
   "outputs": [
    {
     "name": "stdout",
     "output_type": "stream",
     "text": [
      "1부터 10까지 짝수 합 30\n"
     ]
    }
   ],
   "source": [
    "# 1부터 10까지의 짝수 합\n",
    "\n",
    "i = 1\n",
    "total = 0\n",
    "\n",
    "while i <= 10:\n",
    "    \n",
    "    if i%2 == 0:\n",
    "\n",
    "        total += i\n",
    "        \n",
    "    i += 1\n",
    "\n",
    "print('1부터 10까지 짝수 합' , total)"
   ]
  },
  {
   "cell_type": "code",
   "execution_count": 13,
   "metadata": {},
   "outputs": [
    {
     "name": "stdout",
     "output_type": "stream",
     "text": [
      "5와 7의 최소공배수 : 35\n"
     ]
    }
   ],
   "source": [
    "# break\n",
    "num = 1\n",
    "\n",
    "while True:\n",
    "\n",
    "    if num % 5 == 0 and num % 7 ==0:\n",
    "        break\n",
    "\n",
    "    num += 1\n",
    "\n",
    "print('5와 7의 최소공배수 :', num)"
   ]
  },
  {
   "cell_type": "code",
   "execution_count": 14,
   "metadata": {},
   "outputs": [
    {
     "name": "stdout",
     "output_type": "stream",
     "text": [
      "total :  30\n"
     ]
    }
   ],
   "source": [
    "# 1부터 10까지의 홀수 합\n",
    "\n",
    "num = 1\n",
    "total = 0\n",
    "\n",
    "while num <= 10:\n",
    "\n",
    "    if num % 2 == 0:\n",
    "\n",
    "        total += num\n",
    "    \n",
    "    num += 1\n",
    "\n",
    "print('total : ' , total)\n",
    "    \n"
   ]
  }
 ],
 "metadata": {
  "kernelspec": {
   "display_name": "Python 3",
   "language": "python",
   "name": "python3"
  },
  "language_info": {
   "codemirror_mode": {
    "name": "ipython",
    "version": 3
   },
   "file_extension": ".py",
   "mimetype": "text/x-python",
   "name": "python",
   "nbconvert_exporter": "python",
   "pygments_lexer": "ipython3",
   "version": "3.11.1"
  },
  "orig_nbformat": 4,
  "vscode": {
   "interpreter": {
    "hash": "ca3167030a8377a7b82d5e665b459d458267ba920e721652be188ae573e682bb"
   }
  }
 },
 "nbformat": 4,
 "nbformat_minor": 2
}
