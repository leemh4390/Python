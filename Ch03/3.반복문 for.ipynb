{
 "cells": [
  {
   "cell_type": "code",
   "execution_count": 81,
   "metadata": {},
   "outputs": [
    {
     "data": {
      "text/plain": [
       "'\\n날짜 : 2023/01/03\\n이름 : 이민혁\\n내용 : 파이썬 반복문 for 실습하기\\n'"
      ]
     },
     "execution_count": 81,
     "metadata": {},
     "output_type": "execute_result"
    }
   ],
   "source": [
    "\"\"\"\n",
    "날짜 : 2023/01/03\n",
    "이름 : 이민혁\n",
    "내용 : 파이썬 반복문 for 실습하기\n",
    "\"\"\""
   ]
  },
  {
   "cell_type": "code",
   "execution_count": 82,
   "metadata": {},
   "outputs": [
    {
     "name": "stdout",
     "output_type": "stream",
     "text": [
      "i :  0\n",
      "i :  1\n",
      "i :  2\n",
      "i :  3\n",
      "i :  4\n",
      "j :  10\n",
      "j :  11\n",
      "j :  12\n",
      "j :  13\n",
      "j :  14\n",
      "j :  15\n",
      "j :  16\n",
      "j :  17\n",
      "j :  18\n",
      "j :  19\n",
      "k :  10\n",
      "k :  9\n",
      "k :  8\n",
      "k :  7\n",
      "k :  6\n",
      "k :  5\n",
      "k :  4\n",
      "k :  3\n",
      "k :  2\n",
      "k :  1\n"
     ]
    }
   ],
   "source": [
    "# for\n",
    "for i in range(5):\n",
    "    print('i : ' , i)\n",
    "\n",
    "for j in range(10, 20):\n",
    "    print('j : ', j)\n",
    "\n",
    "for k in range(10, 0, -1):\n",
    "    print('k : ' , k)"
   ]
  },
  {
   "cell_type": "code",
   "execution_count": 83,
   "metadata": {},
   "outputs": [
    {
     "name": "stdout",
     "output_type": "stream",
     "text": [
      "total :  55\n"
     ]
    }
   ],
   "source": [
    "# for 1부터 10까지의 합\n",
    "\n",
    "i = 0\n",
    "total = 0\n",
    "\n",
    "for i in range(11):\n",
    "    total += i\n",
    "\n",
    "print('total : ', total)"
   ]
  },
  {
   "cell_type": "code",
   "execution_count": 84,
   "metadata": {},
   "outputs": [
    {
     "name": "stdout",
     "output_type": "stream",
     "text": [
      "total :  30\n"
     ]
    }
   ],
   "source": [
    "# for 1부터 10까지 짝수 합\n",
    "\n",
    "i = 0\n",
    "total = 0\n",
    "\n",
    "for i in range(11):\n",
    "    \n",
    "    if i % 2 == 0:\n",
    "\n",
    "        total += i\n",
    "\n",
    "    i += 1\n",
    "\n",
    "print('total : ', total)\n"
   ]
  },
  {
   "cell_type": "code",
   "execution_count": 85,
   "metadata": {},
   "outputs": [
    {
     "name": "stdout",
     "output_type": "stream",
     "text": [
      "total :  25\n"
     ]
    }
   ],
   "source": [
    "# for 1부터 10까지의 홀수합\n",
    "\n",
    "i = 0\n",
    "total = 0\n",
    "\n",
    "for i in range(11):\n",
    "\n",
    "    if i % 2 == 1:\n",
    "\n",
    "        total += i\n",
    "\n",
    "    i += 1\n",
    "\n",
    "print('total : ', total )"
   ]
  },
  {
   "cell_type": "code",
   "execution_count": 86,
   "metadata": {},
   "outputs": [
    {
     "name": "stdout",
     "output_type": "stream",
     "text": [
      "a 0\n",
      "b 0\n",
      "b 1\n",
      "b 2\n",
      "a 1\n",
      "b 0\n",
      "b 1\n",
      "b 2\n"
     ]
    }
   ],
   "source": [
    "# 중첩 for 문\n",
    "\n",
    "for a in range(2):\n",
    "\n",
    "    print('a' , a)\n",
    "\n",
    "    for b in range(3):\n",
    "\n",
    "        print('b', b)\n"
   ]
  },
  {
   "cell_type": "code",
   "execution_count": 87,
   "metadata": {},
   "outputs": [
    {
     "name": "stdout",
     "output_type": "stream",
     "text": [
      "2 단\n",
      "2 x 1 = 2\n",
      "2 x 2 = 4\n",
      "2 x 3 = 6\n",
      "2 x 4 = 8\n",
      "2 x 5 = 10\n",
      "2 x 6 = 12\n",
      "2 x 7 = 14\n",
      "2 x 8 = 16\n",
      "2 x 9 = 18\n",
      "3 단\n",
      "3 x 1 = 3\n",
      "3 x 2 = 6\n",
      "3 x 3 = 9\n",
      "3 x 4 = 12\n",
      "3 x 5 = 15\n",
      "3 x 6 = 18\n",
      "3 x 7 = 21\n",
      "3 x 8 = 24\n",
      "3 x 9 = 27\n",
      "4 단\n",
      "4 x 1 = 4\n",
      "4 x 2 = 8\n",
      "4 x 3 = 12\n",
      "4 x 4 = 16\n",
      "4 x 5 = 20\n",
      "4 x 6 = 24\n",
      "4 x 7 = 28\n",
      "4 x 8 = 32\n",
      "4 x 9 = 36\n",
      "5 단\n",
      "5 x 1 = 5\n",
      "5 x 2 = 10\n",
      "5 x 3 = 15\n",
      "5 x 4 = 20\n",
      "5 x 5 = 25\n",
      "5 x 6 = 30\n",
      "5 x 7 = 35\n",
      "5 x 8 = 40\n",
      "5 x 9 = 45\n",
      "6 단\n",
      "6 x 1 = 6\n",
      "6 x 2 = 12\n",
      "6 x 3 = 18\n",
      "6 x 4 = 24\n",
      "6 x 5 = 30\n",
      "6 x 6 = 36\n",
      "6 x 7 = 42\n",
      "6 x 8 = 48\n",
      "6 x 9 = 54\n",
      "7 단\n",
      "7 x 1 = 7\n",
      "7 x 2 = 14\n",
      "7 x 3 = 21\n",
      "7 x 4 = 28\n",
      "7 x 5 = 35\n",
      "7 x 6 = 42\n",
      "7 x 7 = 49\n",
      "7 x 8 = 56\n",
      "7 x 9 = 63\n",
      "8 단\n",
      "8 x 1 = 8\n",
      "8 x 2 = 16\n",
      "8 x 3 = 24\n",
      "8 x 4 = 32\n",
      "8 x 5 = 40\n",
      "8 x 6 = 48\n",
      "8 x 7 = 56\n",
      "8 x 8 = 64\n",
      "8 x 9 = 72\n",
      "9 단\n",
      "9 x 1 = 9\n",
      "9 x 2 = 18\n",
      "9 x 3 = 27\n",
      "9 x 4 = 36\n",
      "9 x 5 = 45\n",
      "9 x 6 = 54\n",
      "9 x 7 = 63\n",
      "9 x 8 = 72\n",
      "9 x 9 = 81\n"
     ]
    }
   ],
   "source": [
    "# for문 구구단 출력\n",
    "\n",
    "for x in range(2,10):\n",
    "    print(x, '단')\n",
    "    for y in range(1,10):\n",
    "        z = x * y\n",
    "        print('{} x {} = {}'.format(x,y,z))\n",
    "\n"
   ]
  },
  {
   "cell_type": "code",
   "execution_count": 88,
   "metadata": {},
   "outputs": [
    {
     "name": "stdout",
     "output_type": "stream",
     "text": [
      "\n",
      "☆\n",
      "☆☆\n",
      "☆☆☆\n",
      "☆☆☆☆\n",
      "☆☆☆☆☆\n",
      "☆☆☆☆☆☆\n",
      "☆☆☆☆☆☆☆\n",
      "☆☆☆☆☆☆☆☆\n",
      "☆☆☆☆☆☆☆☆☆\n"
     ]
    }
   ],
   "source": [
    "# 별삼각형\n",
    "for start in range(1, 11):\n",
    "\n",
    "    for end in range(1, start):\n",
    "        print('☆',end='')\n",
    "        \n",
    "    print()"
   ]
  },
  {
   "cell_type": "code",
   "execution_count": 89,
   "metadata": {},
   "outputs": [
    {
     "name": "stdout",
     "output_type": "stream",
     "text": [
      "\n",
      "★\n",
      "★★\n",
      "★★★\n",
      "★★★★\n",
      "★★★★★\n",
      "★★★★★★\n",
      "★★★★★★★\n",
      "★★★★★★★★\n",
      "★★★★★★★★★\n",
      "★★★★★★★★★★\n"
     ]
    }
   ],
   "source": [
    "# 별삼각형\n",
    "\n",
    "for i in range(11):\n",
    "    print('★' * i)"
   ]
  },
  {
   "cell_type": "code",
   "execution_count": 90,
   "metadata": {},
   "outputs": [
    {
     "name": "stdout",
     "output_type": "stream",
     "text": [
      "*\n",
      "**\n",
      "***\n",
      "****\n",
      "*****\n"
     ]
    }
   ],
   "source": [
    "#별삼각형\n",
    "for i in  range(5):\n",
    "    for j in range(i + 1):\n",
    "        print('*',end='')\n",
    "    print()"
   ]
  },
  {
   "cell_type": "code",
   "execution_count": 91,
   "metadata": {},
   "outputs": [
    {
     "name": "stdout",
     "output_type": "stream",
     "text": [
      "*****\n",
      "****\n",
      "***\n",
      "**\n",
      "*\n"
     ]
    }
   ],
   "source": [
    "for i in range(5,0,-1):\n",
    "    for j in range(i):\n",
    "        print('*', end='')\n",
    "    print()\n",
    "    "
   ]
  },
  {
   "cell_type": "code",
   "execution_count": 92,
   "metadata": {},
   "outputs": [
    {
     "name": "stdout",
     "output_type": "stream",
     "text": [
      "★★★★★\n",
      "★★★★\n",
      "★★★\n",
      "★★\n",
      "★\n"
     ]
    }
   ],
   "source": [
    "for i in range(5):\n",
    "    for j in range(i + 1):\n",
    "        print('',end='')\n",
    "    for j in range(5 - i):\n",
    "        print('★',end='')\n",
    "    print()"
   ]
  },
  {
   "cell_type": "code",
   "execution_count": 93,
   "metadata": {},
   "outputs": [
    {
     "name": "stdout",
     "output_type": "stream",
     "text": [
      "         ★\n",
      "        ★★\n",
      "       ★★★\n",
      "      ★★★★\n",
      "     ★★★★★\n",
      "    ★★★★★★\n",
      "   ★★★★★★★\n",
      "  ★★★★★★★★\n",
      " ★★★★★★★★★\n",
      "★★★★★★★★★★\n"
     ]
    }
   ],
   "source": [
    "for i in range(10):\n",
    "    print('{:>10}'.format('★' * (i+1)))"
   ]
  },
  {
   "cell_type": "code",
   "execution_count": 94,
   "metadata": {},
   "outputs": [
    {
     "name": "stdout",
     "output_type": "stream",
     "text": [
      "★    \n",
      "★★   \n",
      "★★★  \n",
      "★★★★ \n",
      "★★★★★\n"
     ]
    }
   ],
   "source": [
    "for i in range(5):\n",
    "    print('{:<5}'.format('★'*(i+1)))"
   ]
  },
  {
   "cell_type": "code",
   "execution_count": 95,
   "metadata": {},
   "outputs": [
    {
     "name": "stdout",
     "output_type": "stream",
     "text": [
      "    ★     \n",
      "   ★★★    \n",
      "  ★★★★★   \n",
      " ★★★★★★★  \n",
      "★★★★★★★★★ \n"
     ]
    }
   ],
   "source": [
    "for i in range(1,11,2):\n",
    "    print('{:^10}'.format('★'*i))"
   ]
  },
  {
   "cell_type": "code",
   "execution_count": 96,
   "metadata": {},
   "outputs": [
    {
     "name": "stdout",
     "output_type": "stream",
     "text": [
      "*\n",
      "***\n",
      "*****\n",
      "*******\n",
      "*********\n"
     ]
    }
   ],
   "source": [
    "for i in range(1,6):\n",
    "    for j in range(5-i):\n",
    "        print('',end='')\n",
    "    for j in range(1,i*2,1):\n",
    "        print('*',end='')\n",
    "    print('')"
   ]
  },
  {
   "cell_type": "code",
   "execution_count": 97,
   "metadata": {},
   "outputs": [
    {
     "name": "stdout",
     "output_type": "stream",
     "text": [
      "    ★     \n",
      "   ★★★    \n",
      "  ★★★★★   \n",
      " ★★★★★★★  \n",
      "★★★★★★★★★ \n",
      "★★★★★★★★★ \n",
      " ★★★★★★★  \n",
      "  ★★★★★   \n",
      "   ★★★    \n",
      "    ★     \n"
     ]
    }
   ],
   "source": [
    "for i in range(1,11,2):\n",
    "    print('{:^10}'.format('★'*i))\n",
    "for j in range(9,0,-2):\n",
    "    print('{:^10}'.format('★' * j))"
   ]
  },
  {
   "cell_type": "code",
   "execution_count": 98,
   "metadata": {},
   "outputs": [
    {
     "name": "stdout",
     "output_type": "stream",
     "text": [
      "★★★★★★★★★ \n",
      " ★★★★★★★  \n",
      "  ★★★★★   \n",
      "   ★★★    \n",
      "    ★     \n",
      "       ★★★\n",
      "     ★★★★★\n",
      "   ★★★★★★★\n",
      " ★★★★★★★★★\n"
     ]
    }
   ],
   "source": [
    "for i in range(9,0,-2):\n",
    "    print('{:^10}'.format('★'*i))\n",
    "for j in range(3,10,2):\n",
    "    print('{:>10}'.format('★'*j))"
   ]
  },
  {
   "cell_type": "code",
   "execution_count": 99,
   "metadata": {},
   "outputs": [
    {
     "name": "stdout",
     "output_type": "stream",
     "text": [
      "☆    \n",
      "☆☆   \n",
      "☆☆☆  \n",
      "☆☆☆☆ \n",
      "☆☆☆☆☆\n",
      "☆☆☆☆☆☆\n"
     ]
    }
   ],
   "source": [
    "# 파이썬 별찍기\n",
    "for i in range(1,7,1):\n",
    "    print('{:<5}'.format('☆'*i))"
   ]
  },
  {
   "cell_type": "code",
   "execution_count": 100,
   "metadata": {},
   "outputs": [
    {
     "name": "stdout",
     "output_type": "stream",
     "text": [
      "      ☆\n",
      "     ☆☆\n",
      "    ☆☆☆\n",
      "   ☆☆☆☆\n",
      "  ☆☆☆☆☆\n",
      " ☆☆☆☆☆☆\n"
     ]
    }
   ],
   "source": [
    "for i in range(1,7,1):\n",
    "    print('{:>7}'.format('☆' * i))"
   ]
  },
  {
   "cell_type": "code",
   "execution_count": 101,
   "metadata": {},
   "outputs": [
    {
     "name": "stdout",
     "output_type": "stream",
     "text": [
      "★★★★★\n",
      "★★★★ \n",
      "★★★  \n",
      "★★   \n",
      "★    \n"
     ]
    }
   ],
   "source": [
    "for i in range(5,0,-1):\n",
    "    print('{:<5}'.format('★' * i))"
   ]
  },
  {
   "cell_type": "code",
   "execution_count": 102,
   "metadata": {},
   "outputs": [
    {
     "name": "stdout",
     "output_type": "stream",
     "text": [
      "☆☆☆☆☆\n",
      " ☆☆☆☆\n",
      "  ☆☆☆\n",
      "   ☆☆\n",
      "    ☆\n"
     ]
    }
   ],
   "source": [
    "for i in range(5,0,-1):\n",
    "    print('{:>5}'.format('☆' * i ))"
   ]
  },
  {
   "cell_type": "code",
   "execution_count": 103,
   "metadata": {},
   "outputs": [
    {
     "name": "stdout",
     "output_type": "stream",
     "text": [
      "☆☆☆☆☆\n",
      " ☆☆☆☆\n",
      "  ☆☆☆\n",
      "   ☆☆\n",
      "    ☆\n",
      "     \n"
     ]
    }
   ],
   "source": [
    "for i in range(6,0,-1):\n",
    "    print('{:>5}'.format('☆' * (i-1)))"
   ]
  },
  {
   "cell_type": "code",
   "execution_count": 104,
   "metadata": {},
   "outputs": [
    {
     "name": "stdout",
     "output_type": "stream",
     "text": [
      "    ★\n",
      "   ★★\n",
      "  ★★★\n",
      " ★★★★\n",
      "★★★★★\n"
     ]
    }
   ],
   "source": [
    "for i in range(1,6,1):\n",
    "    print('{:>5}'.format('★' * i))"
   ]
  },
  {
   "cell_type": "code",
   "execution_count": 105,
   "metadata": {},
   "outputs": [
    {
     "name": "stdout",
     "output_type": "stream",
     "text": [
      "      ★\n",
      "     ★★\n",
      "    ★★★\n",
      "   ★★★★\n",
      "  ★★★★★\n",
      " ★★★★★★\n"
     ]
    }
   ],
   "source": [
    "a = 7\n",
    "\n",
    "for i in range(1,a):\n",
    "    print('{:>7}'.format('★' * i))"
   ]
  },
  {
   "cell_type": "code",
   "execution_count": 106,
   "metadata": {},
   "outputs": [
    {
     "name": "stdout",
     "output_type": "stream",
     "text": [
      "    ★     \n",
      "   ★★★    \n",
      "  ★★★★★   \n",
      " ★★★★★★★  \n",
      "★★★★★★★★★ \n"
     ]
    }
   ],
   "source": [
    "for i in range(1,11,2):\n",
    "    print('{:^10}'.format('★' * i))"
   ]
  },
  {
   "cell_type": "code",
   "execution_count": 107,
   "metadata": {},
   "outputs": [
    {
     "ename": "ValueError",
     "evalue": "invalid literal for int() with base 10: ''",
     "output_type": "error",
     "traceback": [
      "\u001b[1;31m---------------------------------------------------------------------------\u001b[0m",
      "\u001b[1;31mValueError\u001b[0m                                Traceback (most recent call last)",
      "Cell \u001b[1;32mIn[107], line 1\u001b[0m\n\u001b[1;32m----> 1\u001b[0m num \u001b[39m=\u001b[39m \u001b[39mint\u001b[39;49m(\u001b[39minput\u001b[39;49m(\u001b[39m'\u001b[39;49m\u001b[39m숫자를 입력해주세요.\u001b[39;49m\u001b[39m'\u001b[39;49m))\n\u001b[0;32m      3\u001b[0m \u001b[39mfor\u001b[39;00m i \u001b[39min\u001b[39;00m \u001b[39mrange\u001b[39m(num):\n\u001b[0;32m      4\u001b[0m     \u001b[39mprint\u001b[39m(\u001b[39m'\u001b[39m\u001b[39m{:<5}\u001b[39;00m\u001b[39m'\u001b[39m\u001b[39m.\u001b[39mformat(\u001b[39m'\u001b[39m\u001b[39m★\u001b[39m\u001b[39m'\u001b[39m \u001b[39m*\u001b[39m (i\u001b[39m+\u001b[39m\u001b[39m1\u001b[39m)))\n",
      "\u001b[1;31mValueError\u001b[0m: invalid literal for int() with base 10: ''"
     ]
    }
   ],
   "source": [
    "num = int(input('숫자를 입력해주세요.'))\n",
    "\n",
    "for i in range(num):\n",
    "    print('{:<5}'.format('★' * (i+1)))"
   ]
  },
  {
   "cell_type": "code",
   "execution_count": null,
   "metadata": {},
   "outputs": [
    {
     "name": "stdout",
     "output_type": "stream",
     "text": [
      "★★★★★\n",
      "★★★★ \n",
      "★★★  \n",
      "★★   \n",
      "★    \n"
     ]
    }
   ],
   "source": [
    "for i in range(5,0,-1):\n",
    "    print('{:<5}'.format('★' * i))"
   ]
  },
  {
   "cell_type": "code",
   "execution_count": null,
   "metadata": {},
   "outputs": [
    {
     "name": "stdout",
     "output_type": "stream",
     "text": [
      "*****\n",
      " ****\n",
      "  ***\n",
      "   **\n",
      "    *\n"
     ]
    }
   ],
   "source": [
    "star = '*'\n",
    "blank = ' '\n",
    "\n",
    "for i in range(0, 5):\n",
    "    print(blank * i + star * (5 - i))"
   ]
  },
  {
   "cell_type": "code",
   "execution_count": null,
   "metadata": {},
   "outputs": [
    {
     "name": "stdout",
     "output_type": "stream",
     "text": [
      "★\n",
      "★★\n",
      "★★★\n",
      "★★★★\n",
      "★★★★★\n"
     ]
    }
   ],
   "source": [
    "n = int(input('숫자를 입력하세요.'))\n",
    "\n",
    "for i in range(1,n+1):\n",
    "    print('★' * i)"
   ]
  },
  {
   "cell_type": "code",
   "execution_count": 143,
   "metadata": {},
   "outputs": [
    {
     "name": "stdout",
     "output_type": "stream",
     "text": [
      "    ★\n",
      "   ★★\n",
      "  ★★★\n",
      " ★★★★\n",
      "★★★★★\n"
     ]
    }
   ],
   "source": [
    "for i in range(1,6):\n",
    "    print('{:>5}'.format('★' * i))"
   ]
  },
  {
   "cell_type": "code",
   "execution_count": 117,
   "metadata": {},
   "outputs": [
    {
     "name": "stdout",
     "output_type": "stream",
     "text": [
      "★★★★★\n",
      "★★★★\n",
      "★★★\n",
      "★★\n",
      "★\n"
     ]
    }
   ],
   "source": [
    "for i in range(5):\n",
    "    for j in range(i + 1):\n",
    "        print('',end='')\n",
    "    for j in range(5 - i):\n",
    "        print('★',end='')\n",
    "    print()"
   ]
  },
  {
   "cell_type": "code",
   "execution_count": 121,
   "metadata": {},
   "outputs": [
    {
     "name": "stdout",
     "output_type": "stream",
     "text": [
      "★★★★★\n",
      "★★★★\n",
      "★★★\n",
      "★★\n",
      "★\n"
     ]
    }
   ],
   "source": [
    "for i in range(5,0,-1):\n",
    "    print('{:<}'.format('★' * i))\n"
   ]
  },
  {
   "cell_type": "code",
   "execution_count": 142,
   "metadata": {},
   "outputs": [
    {
     "name": "stdout",
     "output_type": "stream",
     "text": [
      "    ★     \n",
      "   ★★★    \n",
      "  ★★★★★   \n",
      " ★★★★★★★  \n",
      "★★★★★★★★★ \n"
     ]
    }
   ],
   "source": [
    "for i in range(1,10,2):\n",
    "    print('{:^10}'.format('★' * i))"
   ]
  },
  {
   "cell_type": "code",
   "execution_count": 151,
   "metadata": {},
   "outputs": [
    {
     "name": "stdout",
     "output_type": "stream",
     "text": [
      "*        *\n",
      "**      **\n",
      "***    ***\n",
      "****  ****\n",
      "**********\n",
      "****  ****\n",
      "***    ***\n",
      "**      **\n",
      "*        *\n"
     ]
    }
   ],
   "source": [
    "for i in range(5):\n",
    "    print('{:<5}'.format((i+1) * '*') + '{:>5}'.format('*' * (i+1)))\n",
    "for j in range(4,0,-1):\n",
    "    print('{:<5}'.format(('*'*j)) + '{:>5}'.format('*' * (j)))"
   ]
  },
  {
   "cell_type": "code",
   "execution_count": 168,
   "metadata": {},
   "outputs": [
    {
     "name": "stdout",
     "output_type": "stream",
     "text": [
      "  *\n",
      " **\n",
      "***\n",
      " **\n",
      "  *\n"
     ]
    }
   ],
   "source": [
    "for i in range(3):\n",
    "    print('{:>3}'.format('*'*(i+1)))\n",
    "for j in range(2,0,-1):\n",
    "    print('{:>3}'.format('*'*j))"
   ]
  },
  {
   "cell_type": "code",
   "execution_count": 174,
   "metadata": {},
   "outputs": [
    {
     "name": "stdout",
     "output_type": "stream",
     "text": [
      "*********\n",
      " ******* \n",
      "  *****  \n",
      "   ***   \n",
      "    *    \n",
      "   ***   \n",
      "  *****  \n",
      " ******* \n",
      "*********\n"
     ]
    }
   ],
   "source": [
    "for i in range(9,0,-2):\n",
    "    print('{:^9}'.format('*'*i))\n",
    "for j in range(3,10,2):\n",
    "    print('{:^9}'.format('*'*j))"
   ]
  },
  {
   "cell_type": "code",
   "execution_count": 10,
   "metadata": {},
   "outputs": [
    {
     "ename": "ValueError",
     "evalue": "invalid literal for int() with base 10: ''",
     "output_type": "error",
     "traceback": [
      "\u001b[1;31m---------------------------------------------------------------------------\u001b[0m",
      "\u001b[1;31mValueError\u001b[0m                                Traceback (most recent call last)",
      "Cell \u001b[1;32mIn[10], line 1\u001b[0m\n\u001b[1;32m----> 1\u001b[0m n \u001b[39m=\u001b[39m \u001b[39mint\u001b[39;49m(\u001b[39minput\u001b[39;49m(\u001b[39m'\u001b[39;49m\u001b[39m숫자를 입력해주세요.\u001b[39;49m\u001b[39m'\u001b[39;49m))\n\u001b[0;32m      3\u001b[0m \u001b[39mfor\u001b[39;00m i \u001b[39min\u001b[39;00m \u001b[39mrange\u001b[39m(n,\u001b[39m0\u001b[39m,\u001b[39m-\u001b[39m\u001b[39m1\u001b[39m):\n\u001b[0;32m      4\u001b[0m     \u001b[39mprint\u001b[39m(\u001b[39m'\u001b[39m\u001b[39m \u001b[39m\u001b[39m'\u001b[39m\u001b[39m*\u001b[39m(i\u001b[39m-\u001b[39m\u001b[39m1\u001b[39m),end\u001b[39m=\u001b[39m\u001b[39m'\u001b[39m\u001b[39m'\u001b[39m)\n",
      "\u001b[1;31mValueError\u001b[0m: invalid literal for int() with base 10: ''"
     ]
    }
   ],
   "source": [
    "n = int(input('숫자를 입력해주세요.'))\n",
    "\n",
    "for i in range(n,0,-1):\n",
    "    print(' '*(i-1),end='')\n",
    "    print('* '*(n-(i-1)))\n"
   ]
  },
  {
   "cell_type": "code",
   "execution_count": 65,
   "metadata": {},
   "outputs": [
    {
     "name": "stdout",
     "output_type": "stream",
     "text": [
      "   *\n",
      "  * *\n",
      " *   *\n",
      "*******\n"
     ]
    }
   ],
   "source": [
    "n = int(input('숫자를 입력해주세요.'))\n",
    "\n",
    "for i in range(1, n+1):\n",
    "    if i == n:\n",
    "        print('*'*(i*2-1)) #마지막 줄은 입력받은 값의 *2 -1 이다.\n",
    "    elif i == 1:\n",
    "        print(' ' * (n-i) + '*') #첫줄은 입력받은 값 -1 이 공백이며, 별 1개가 출력되어야 한다.\n",
    "    else:\n",
    "        print(' ' * (n-i) + '*' + ' '*(2*(i-1)-1)+'*') \n",
    "    "
   ]
  },
  {
   "cell_type": "code",
   "execution_count": null,
   "metadata": {},
   "outputs": [],
   "source": []
  }
 ],
 "metadata": {
  "kernelspec": {
   "display_name": "Python 3",
   "language": "python",
   "name": "python3"
  },
  "language_info": {
   "codemirror_mode": {
    "name": "ipython",
    "version": 3
   },
   "file_extension": ".py",
   "mimetype": "text/x-python",
   "name": "python",
   "nbconvert_exporter": "python",
   "pygments_lexer": "ipython3",
   "version": "3.11.1 (tags/v3.11.1:a7a450f, Dec  6 2022, 19:58:39) [MSC v.1934 64 bit (AMD64)]"
  },
  "orig_nbformat": 4,
  "vscode": {
   "interpreter": {
    "hash": "ca3167030a8377a7b82d5e665b459d458267ba920e721652be188ae573e682bb"
   }
  }
 },
 "nbformat": 4,
 "nbformat_minor": 2
}
