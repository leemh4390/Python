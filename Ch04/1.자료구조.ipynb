{
 "cells": [
  {
   "cell_type": "code",
   "execution_count": 1,
   "metadata": {},
   "outputs": [
    {
     "data": {
      "text/plain": [
       "'\\n    날짜 : 2023/01/09 \\n    이름 : 이민혁\\n    내용 : 파이썬 리스트 실습하기\\n'"
      ]
     },
     "execution_count": 1,
     "metadata": {},
     "output_type": "execute_result"
    }
   ],
   "source": [
    "\"\"\"\n",
    "    날짜 : 2023/01/09 \n",
    "    이름 : 이민혁\n",
    "    내용 : 파이썬 리스트 실습하기\n",
    "\"\"\""
   ]
  },
  {
   "cell_type": "code",
   "execution_count": 3,
   "metadata": {},
   "outputs": [
    {
     "name": "stdout",
     "output_type": "stream",
     "text": [
      "list1 type :  <class 'list'>\n",
      "list[0] :  1\n",
      "list[2] :  3\n",
      "list[3] :  4\n"
     ]
    }
   ],
   "source": [
    "#리스트\n",
    "list1 = [1, 2, 3,4, 5]\n",
    "\n",
    "print('list1 type : ', type(list1))\n",
    "print('list[0] : ', list1[0])\n",
    "print('list[2] : ', list1[2])\n",
    "print('list[3] : ', list1[3])"
   ]
  },
  {
   "cell_type": "code",
   "execution_count": 7,
   "metadata": {},
   "outputs": [
    {
     "name": "stdout",
     "output_type": "stream",
     "text": [
      "list1 type :  <class 'list'>\n",
      "list[0] :  1\n",
      "list[2] :  True\n",
      "list[3] :  Apple\n"
     ]
    }
   ],
   "source": [
    "#다양한 자료형을 갖는 리스트\n",
    "list2 = [1, 3.14, True, 'Apple']\n",
    "print('list1 type : ', type(list2))\n",
    "print('list[0] : ', list2[0])\n",
    "print('list[2] : ', list2[2])\n",
    "print('list[3] : ', list2[3])"
   ]
  },
  {
   "cell_type": "code",
   "execution_count": 9,
   "metadata": {},
   "outputs": [
    {
     "name": "stdout",
     "output_type": "stream",
     "text": [
      "dataset[0][0] :  1\n",
      "dataset[1][0] :  4\n",
      "dataset[2][1] :  8\n"
     ]
    }
   ],
   "source": [
    "#다차원 리스트\n",
    "dataset = [\n",
    "    [1, 2, 3], \n",
    "    [4, 5, 6], \n",
    "    [7, 8, 9]\n",
    "]\n",
    "\n",
    "print('dataset[0][0] : ', dataset[0][0])\n",
    "print('dataset[1][0] : ', dataset[1][0])\n",
    "print('dataset[2][1] : ', dataset[2][1])"
   ]
  },
  {
   "cell_type": "code",
   "execution_count": 16,
   "metadata": {},
   "outputs": [
    {
     "name": "stdout",
     "output_type": "stream",
     "text": [
      "dataset :  [1, 6, 3, 4, 5]\n",
      "dataset :  [1, 6, 7, 8, 9, 5]\n",
      "dataset :  [1, 6, 7, 5]\n"
     ]
    }
   ],
   "source": [
    "#리스트 수정, 추가, 삭제\n",
    "dataset = [1,2,3,4,5]\n",
    "\n",
    "dataset[1] = 6\n",
    "print('dataset : ', dataset)\n",
    "\n",
    "dataset[2:4] = [7,8,9]\n",
    "print('dataset : ', dataset)\n",
    "\n",
    "dataset[3:5] = []\n",
    "print('dataset : ', dataset)"
   ]
  },
  {
   "cell_type": "code",
   "execution_count": 19,
   "metadata": {},
   "outputs": [
    {
     "name": "stdout",
     "output_type": "stream",
     "text": [
      "i : 1\n",
      "i : 2\n",
      "i : 3\n",
      "i : 4\n",
      "i : 5\n",
      "cities :  서울\n",
      "cities :  대전\n",
      "cities :  대구\n",
      "cities :  부산\n",
      "cities :  광주\n",
      "cities[0] : 서울\n",
      "cities[1] : 대전\n",
      "cities[2] : 대구\n",
      "cities[3] : 부산\n",
      "cities[4] : 광주\n"
     ]
    }
   ],
   "source": [
    "#리스트 반복문\n",
    "for i in [1,2,3,4,5]:\n",
    "    print('i :', i)\n",
    "\n",
    "cities = ['서울','대전','대구','부산','광주']\n",
    "for city in cities:\n",
    "    print('cities : ', city)\n",
    "\n",
    "for index,value in enumerate(cities):\n",
    "    print('cities[%d] : %s' % (index,value))\n",
    "\n",
    "\n",
    "\n"
   ]
  },
  {
   "cell_type": "code",
   "execution_count": 22,
   "metadata": {},
   "outputs": [
    {
     "name": "stdout",
     "output_type": "stream",
     "text": [
      "rs1 [2, 4, 6, 8, 10]\n",
      "rs2 [3, 9, 15]\n"
     ]
    }
   ],
   "source": [
    "# 리스트\n",
    "data = [1,2,3,4,5]\n",
    "\n",
    "rs1 = [num * 2 for num in data]\n",
    "rs2 = [num * 3 for num in data if num % 2 == 1]\n",
    "\n",
    "print('rs1',rs1)\n",
    "print('rs2',rs2)"
   ]
  }
 ],
 "metadata": {
  "kernelspec": {
   "display_name": "Python 3",
   "language": "python",
   "name": "python3"
  },
  "language_info": {
   "codemirror_mode": {
    "name": "ipython",
    "version": 3
   },
   "file_extension": ".py",
   "mimetype": "text/x-python",
   "name": "python",
   "nbconvert_exporter": "python",
   "pygments_lexer": "ipython3",
   "version": "3.11.1 (tags/v3.11.1:a7a450f, Dec  6 2022, 19:58:39) [MSC v.1934 64 bit (AMD64)]"
  },
  "orig_nbformat": 4,
  "vscode": {
   "interpreter": {
    "hash": "ca3167030a8377a7b82d5e665b459d458267ba920e721652be188ae573e682bb"
   }
  }
 },
 "nbformat": 4,
 "nbformat_minor": 2
}
