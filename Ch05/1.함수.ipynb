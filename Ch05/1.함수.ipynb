{
 "cells": [
  {
   "cell_type": "code",
   "execution_count": 1,
   "metadata": {},
   "outputs": [
    {
     "data": {
      "text/plain": [
       "'\\n날짜 : 2023/01/10\\n이름 : 이민혁\\n내용 : python 함수\\n'"
      ]
     },
     "execution_count": 1,
     "metadata": {},
     "output_type": "execute_result"
    }
   ],
   "source": [
    "\"\"\"\n",
    "날짜 : 2023/01/10\n",
    "이름 : 이민혁\n",
    "내용 : python 함수\n",
    "\"\"\""
   ]
  },
  {
   "cell_type": "code",
   "execution_count": 5,
   "metadata": {},
   "outputs": [
    {
     "name": "stdout",
     "output_type": "stream",
     "text": [
      "5\n",
      "7\n",
      "9\n"
     ]
    }
   ],
   "source": [
    "#함수\n",
    "def f(x):\n",
    "    y = 2 * x + 3\n",
    "    return y\n",
    "\n",
    "y1 = f(1)\n",
    "y2 = f(2)\n",
    "y3 = f(3)\n",
    "\n",
    "print(y1)\n",
    "print(y2)\n",
    "print(y3)"
   ]
  },
  {
   "cell_type": "code",
   "execution_count": 11,
   "metadata": {},
   "outputs": [
    {
     "name": "stdout",
     "output_type": "stream",
     "text": [
      "rs1 :  3\n",
      "rs2 :  helloworld\n",
      "1\n",
      "3\n",
      "6\n",
      "10\n",
      "15\n",
      "1\n",
      "4\n",
      "9\n",
      "15\n",
      "22\n",
      "total :  55\n"
     ]
    }
   ],
   "source": [
    "#함수 타입\n",
    "def type1(x, y):\n",
    "    z = x + y\n",
    "\n",
    "    return z\n",
    "\n",
    "def type2(dataset):\n",
    "    tot = 0\n",
    "\n",
    "    for data in dataset:\n",
    "        tot += data\n",
    "\n",
    "        print(tot)\n",
    "\n",
    "def type3():\n",
    "    dataset = [n for n in range(11)]\n",
    "\n",
    "    tot = 0\n",
    "\n",
    "    for k in dataset:\n",
    "        tot += k\n",
    "        \n",
    "    return tot\n",
    "\n",
    "rs1 = type1(1,2)\n",
    "rs2 = type1('hello','world')\n",
    "\n",
    "print('rs1 : ' , rs1)\n",
    "print('rs2 : ' , rs2)\n",
    "\n",
    "type2([1,2,3,4,5])\n",
    "type2([1,3,5,6,7])\n",
    "\n",
    "total = type3()\n",
    "print('total : ', total)"
   ]
  },
  {
   "cell_type": "code",
   "execution_count": 15,
   "metadata": {},
   "outputs": [
    {
     "name": "stdout",
     "output_type": "stream",
     "text": [
      "name :  홍길동\n",
      "age :  20\n",
      "name :  김유신\n",
      "age :  20\n",
      "name :  김춘추\n",
      "age :  21\n"
     ]
    }
   ],
   "source": [
    "#디폴트 매개변수\n",
    "def hello(name='홍길동', age=20):\n",
    "    print('name : ',name)\n",
    "    print('age : ',age)\n",
    "\n",
    "hello()\n",
    "hello('김유신')\n",
    "hello('김춘추',21)"
   ]
  },
  {
   "cell_type": "code",
   "execution_count": 17,
   "metadata": {},
   "outputs": [
    {
     "name": "stdout",
     "output_type": "stream",
     "text": [
      "r1 :  1\n",
      "r2 :  3\n",
      "r3 :  6\n",
      "r4 :  10\n",
      "r5 :  15\n"
     ]
    }
   ],
   "source": [
    "#가변 매개변수\n",
    "def total(*item):\n",
    "    tot = 0\n",
    "\n",
    "    for i in item:\n",
    "        tot += i\n",
    "\n",
    "    return tot\n",
    "\n",
    "r1 = total(1)\n",
    "r2 = total(1,2)\n",
    "r3 = total(1,2,3)\n",
    "r4 = total(1,2,3,4)\n",
    "r5 = total(1,2,3,4,5)\n",
    "\n",
    "print('r1 : ', r1)\n",
    "print('r2 : ', r2)\n",
    "print('r3 : ', r3)\n",
    "print('r4 : ', r4)\n",
    "print('r5 : ', r5)"
   ]
  },
  {
   "cell_type": "code",
   "execution_count": 21,
   "metadata": {},
   "outputs": [
    {
     "name": "stdout",
     "output_type": "stream",
     "text": [
      "r1 :  5\n",
      "r2 :  6\n"
     ]
    }
   ],
   "source": [
    "# 하나 이상 리턴값을 갖는 함수\n",
    "def sumMuti(x,y):\n",
    "    y1 = x + y\n",
    "    y2 = x * y\n",
    "\n",
    "    return y1, y2\n",
    "\n",
    "r1, r2 = sumMuti(2,3)\n",
    "\n",
    "print('r1 : ', r1)\n",
    "print('r2 : ', r2)"
   ]
  },
  {
   "cell_type": "code",
   "execution_count": null,
   "metadata": {},
   "outputs": [],
   "source": [
    "#변수에 저장하는 함수\n",
    "def plus(x,y):\n",
    "    return x + y\n",
    "\n",
    "def minus(x,y):\n",
    "    return x - y\n",
    "\n"
   ]
  }
 ],
 "metadata": {
  "kernelspec": {
   "display_name": "Python 3",
   "language": "python",
   "name": "python3"
  },
  "language_info": {
   "codemirror_mode": {
    "name": "ipython",
    "version": 3
   },
   "file_extension": ".py",
   "mimetype": "text/x-python",
   "name": "python",
   "nbconvert_exporter": "python",
   "pygments_lexer": "ipython3",
   "version": "3.11.1"
  },
  "orig_nbformat": 4,
  "vscode": {
   "interpreter": {
    "hash": "ca3167030a8377a7b82d5e665b459d458267ba920e721652be188ae573e682bb"
   }
  }
 },
 "nbformat": 4,
 "nbformat_minor": 2
}
