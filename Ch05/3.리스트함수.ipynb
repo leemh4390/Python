{
 "cells": [
  {
   "cell_type": "code",
   "execution_count": 2,
   "metadata": {},
   "outputs": [],
   "source": [
    "\"\"\"\n",
    "날짜 : 2023/01/10\n",
    "이름 : 이민혁\n",
    "내용 : PYTHON 리스트 함수\n",
    "\"\"\"\n",
    "\n",
    "import math"
   ]
  },
  {
   "cell_type": "code",
   "execution_count": 26,
   "metadata": {},
   "outputs": [
    {
     "name": "stdout",
     "output_type": "stream",
     "text": [
      "dataset :  [1, 4, 3]\n"
     ]
    }
   ],
   "source": [
    "dataset = [1,4,3]\n",
    "\n",
    "print('dataset : ', dataset)"
   ]
  },
  {
   "cell_type": "code",
   "execution_count": 27,
   "metadata": {},
   "outputs": [
    {
     "name": "stdout",
     "output_type": "stream",
     "text": [
      "dataset :  [1, 4, 3, 2, 5]\n"
     ]
    }
   ],
   "source": [
    "#데이터추가\n",
    "dataset.append(2)\n",
    "dataset.append(5)\n",
    "\n",
    "print('dataset : ', dataset)\n"
   ]
  },
  {
   "cell_type": "code",
   "execution_count": 28,
   "metadata": {},
   "outputs": [
    {
     "name": "stdout",
     "output_type": "stream",
     "text": [
      "[1, 2, 3, 4, 5]\n",
      "[5, 4, 3, 2, 1]\n"
     ]
    }
   ],
   "source": [
    "#데이터정렬\n",
    "dataset.sort()\n",
    "print(dataset)\n",
    "\n",
    "dataset.reverse()\n",
    "print(dataset)\n"
   ]
  },
  {
   "cell_type": "code",
   "execution_count": 46,
   "metadata": {},
   "outputs": [
    {
     "name": "stdout",
     "output_type": "stream",
     "text": [
      "[5, 6]\n",
      "[5, 7, 6]\n"
     ]
    }
   ],
   "source": [
    "#데이터 삽입\n",
    "dataset.insert(2,6)\n",
    "print(dataset)\n",
    "\n",
    "dataset.insert(1,7)\n",
    "print(dataset)"
   ]
  },
  {
   "cell_type": "code",
   "execution_count": 45,
   "metadata": {},
   "outputs": [
    {
     "ename": "IndexError",
     "evalue": "pop index out of range",
     "output_type": "error",
     "traceback": [
      "\u001b[1;31m---------------------------------------------------------------------------\u001b[0m",
      "\u001b[1;31mIndexError\u001b[0m                                Traceback (most recent call last)",
      "Cell \u001b[1;32mIn[45], line 2\u001b[0m\n\u001b[0;32m      1\u001b[0m \u001b[39m#데이터삭제\u001b[39;00m\n\u001b[1;32m----> 2\u001b[0m dataset\u001b[39m.\u001b[39;49mpop(\u001b[39m1\u001b[39;49m)\n\u001b[0;32m      3\u001b[0m \u001b[39mprint\u001b[39m(dataset)\n",
      "\u001b[1;31mIndexError\u001b[0m: pop index out of range"
     ]
    }
   ],
   "source": [
    "#데이터삭제\n",
    "dataset.pop(1)\n",
    "print(dataset)"
   ]
  },
  {
   "cell_type": "code",
   "execution_count": 56,
   "metadata": {},
   "outputs": [
    {
     "name": "stdout",
     "output_type": "stream",
     "text": [
      "r2 :  [1, 2, 3, 4, 5]\n",
      "r3 :  [10, 20, 30, 40, 50]\n"
     ]
    }
   ],
   "source": [
    "# map함수\n",
    "def plus(x):\n",
    "    return x + 10\n",
    "\n",
    "list1 = [1,2,3,4,5]\n",
    "r1 = list(map(plus,list1))\n",
    "\n",
    "list2 = [0.1, 1.2, 2.6, 3.4, 4.9]\n",
    "r2 = list(map(math.ceil,list2))\n",
    "\n",
    "list3 = ['10','20','30','40', '50']\n",
    "r3 = list(map(int, list3))\n",
    "\n",
    "\n",
    "print('r2 : ', r2)\n",
    "print('r3 : ', r3)\n",
    "\n",
    "\n",
    "\n"
   ]
  },
  {
   "cell_type": "code",
   "execution_count": 54,
   "metadata": {},
   "outputs": [
    {
     "name": "stdout",
     "output_type": "stream",
     "text": [
      "data1 :  [1, 2, 3, 4, 5]\n",
      "data2 :  [1, 2, 6, 3, 4, 5]\n",
      "data3 :  [1, 2, 6, 3, 4, 7, 5]\n"
     ]
    }
   ],
   "source": [
    "data = [1,2,3,4,5]\n",
    "\n",
    "print('data1 : ',data)\n",
    "\n",
    "data.insert(2,6)\n",
    "print('data2 : ',data)\n",
    "\n",
    "data.insert(5,7)\n",
    "print('data3 : ',data)\n"
   ]
  },
  {
   "cell_type": "code",
   "execution_count": null,
   "metadata": {},
   "outputs": [],
   "source": []
  }
 ],
 "metadata": {
  "kernelspec": {
   "display_name": "Python 3",
   "language": "python",
   "name": "python3"
  },
  "language_info": {
   "codemirror_mode": {
    "name": "ipython",
    "version": 3
   },
   "file_extension": ".py",
   "mimetype": "text/x-python",
   "name": "python",
   "nbconvert_exporter": "python",
   "pygments_lexer": "ipython3",
   "version": "3.11.1 (tags/v3.11.1:a7a450f, Dec  6 2022, 19:58:39) [MSC v.1934 64 bit (AMD64)]"
  },
  "orig_nbformat": 4,
  "vscode": {
   "interpreter": {
    "hash": "ca3167030a8377a7b82d5e665b459d458267ba920e721652be188ae573e682bb"
   }
  }
 },
 "nbformat": 4,
 "nbformat_minor": 2
}
