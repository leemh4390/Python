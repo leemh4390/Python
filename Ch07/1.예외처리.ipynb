{
 "cells": [
  {
   "cell_type": "code",
   "execution_count": 1,
   "metadata": {},
   "outputs": [
    {
     "data": {
      "text/plain": [
       "'\\n    날짜 : 2023/01/12\\n    이름 : 이민혁\\n    내용 : 파이썬 예외처리 실습하기\\n'"
      ]
     },
     "execution_count": 1,
     "metadata": {},
     "output_type": "execute_result"
    }
   ],
   "source": [
    "\"\"\"\n",
    "    날짜 : 2023/01/12\n",
    "    이름 : 이민혁\n",
    "    내용 : 파이썬 예외처리 실습하기\n",
    "\"\"\""
   ]
  },
  {
   "cell_type": "code",
   "execution_count": 6,
   "metadata": {},
   "outputs": [
    {
     "name": "stdout",
     "output_type": "stream",
     "text": [
      "예외 발생...\n",
      "r1 :  1\n",
      "r2 :  1\n",
      "r3 :  0\n",
      "r4 :  0\n"
     ]
    }
   ],
   "source": [
    "# try ~except\n",
    "num1, num2 = 1,0\n",
    "r1 = r2 = r3 = r4 = 0\n",
    "\n",
    "try:\n",
    "\n",
    "    r1 = num1 + num2 \n",
    "    r2 = num1 - num2 \n",
    "    r3 = num1 * num2 \n",
    "    r4 = num1 / num2  \n",
    "\n",
    "except:\n",
    "    print('예외 발생...')\n",
    "\n",
    "\n",
    "print('r1 : ', r1)\n",
    "print('r2 : ', r2)\n",
    "print('r3 : ', r3)\n",
    "print('r4 : ', r4)"
   ]
  },
  {
   "cell_type": "code",
   "execution_count": 10,
   "metadata": {},
   "outputs": [
    {
     "name": "stdout",
     "output_type": "stream",
     "text": [
      "서울\n",
      "부산\n",
      "대구\n",
      "광주\n",
      "대전\n",
      "에러내용 list index out of range\n",
      "예외처리 완료..\n"
     ]
    }
   ],
   "source": [
    "# try ~ except ~ finally\n",
    "cities = ['서울', '부산', '대구', '광주', '대전']\n",
    "\n",
    "try:\n",
    "    for i in range(10):\n",
    "        print(cities[i])\n",
    "except Exception as e:\n",
    "    print('에러내용', e)\n",
    "finally:\n",
    "    print('예외처리 완료..')\n"
   ]
  },
  {
   "cell_type": "code",
   "execution_count": 12,
   "metadata": {},
   "outputs": [
    {
     "name": "stdout",
     "output_type": "stream",
     "text": [
      "1~5를 선택하세요.(0: 종료)\n",
      "선택된 도시는 서울 입니다.\n",
      "1~5를 선택하세요.(0: 종료)\n",
      "선택된 도시는 서울 입니다.\n",
      "1~5를 선택하세요.(0: 종료)\n",
      "선택된 도시는 부산 입니다.\n",
      "1~5를 선택하세요.(0: 종료)\n",
      "선택된 도시는 대구 입니다.\n",
      "1~5를 선택하세요.(0: 종료)\n",
      "프로그램 종료\n"
     ]
    }
   ],
   "source": [
    "# try ~ except ~else\n",
    "cities = ['서울', '부산', '대구', '광주', '대전']\n",
    "result = None\n",
    "\n",
    "while True:\n",
    "\n",
    "    try:\n",
    "        print('1~5를 선택하세요.(0: 종료)')\n",
    "        answer = int(input('선택 : '))\n",
    "\n",
    "        if answer == 0:\n",
    "            break\n",
    "\n",
    "        result = cities[answer -1]\n",
    "\n",
    "    except:\n",
    "        print('1~5 까지만 입력하세요.')\n",
    "    else:\n",
    "\n",
    "        print('선택된 도시는 %s 입니다.' % result)\n",
    "\n",
    "print('프로그램 종료')"
   ]
  }
 ],
 "metadata": {
  "kernelspec": {
   "display_name": "Python 3",
   "language": "python",
   "name": "python3"
  },
  "language_info": {
   "codemirror_mode": {
    "name": "ipython",
    "version": 3
   },
   "file_extension": ".py",
   "mimetype": "text/x-python",
   "name": "python",
   "nbconvert_exporter": "python",
   "pygments_lexer": "ipython3",
   "version": "3.11.1"
  },
  "orig_nbformat": 4,
  "vscode": {
   "interpreter": {
    "hash": "ca3167030a8377a7b82d5e665b459d458267ba920e721652be188ae573e682bb"
   }
  }
 },
 "nbformat": 4,
 "nbformat_minor": 2
}
