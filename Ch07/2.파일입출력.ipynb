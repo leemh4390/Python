{
 "cells": [
  {
   "cell_type": "code",
   "execution_count": 1,
   "metadata": {},
   "outputs": [
    {
     "data": {
      "text/plain": [
       "'\\n    날짜 : 2023/01/12\\n    이름 : 이민혁\\n    내용 : 파일 입출력 실습하기\\n\\n'"
      ]
     },
     "execution_count": 1,
     "metadata": {},
     "output_type": "execute_result"
    }
   ],
   "source": [
    "\"\"\"\n",
    "    날짜 : 2023/01/12\n",
    "    이름 : 이민혁\n",
    "    내용 : 파이썬 파일 입출력 실습하기\n",
    "\n",
    "\"\"\""
   ]
  },
  {
   "cell_type": "code",
   "execution_count": 7,
   "metadata": {},
   "outputs": [
    {
     "name": "stdout",
     "output_type": "stream",
     "text": [
      "Hello World!\n",
      "Hello Python!\n"
     ]
    },
    {
     "data": {
      "text/plain": [
       "<function TextIOWrapper.close()>"
      ]
     },
     "execution_count": 7,
     "metadata": {},
     "output_type": "execute_result"
    }
   ],
   "source": [
    "# 파일 읽기\n",
    "f1 = open('C:/Users/java1/Desktop/test.txt',mode='r', encoding='UTF-8')\n",
    "\n",
    "while True:\n",
    "\n",
    "    line = f1.read()\n",
    "\n",
    "    if not line:\n",
    "        break\n",
    "        \n",
    "    print(line)\n",
    "\n",
    "f1.close()\n",
    "\n"
   ]
  },
  {
   "cell_type": "code",
   "execution_count": 12,
   "metadata": {},
   "outputs": [],
   "source": [
    "f2 = open('C:/Users/java1/Desktop/test.txt',mode='w', encoding='UTF-8')\n",
    "\n",
    "f2.write('안녕하세요.\\n')\n",
    "f2.write('감사합니다.\\n')\n",
    "f2.write('반갑습니다.\\n')\n",
    "f2.close()\n"
   ]
  },
  {
   "cell_type": "code",
   "execution_count": 28,
   "metadata": {},
   "outputs": [],
   "source": [
    "f3 = open('C:/Users/java1/Desktop/test.txt',mode='w', encoding='UTF-8')\n",
    "\n",
    "for x in range(2,10):\n",
    "    f3.write('%d단\\n' % x)\n",
    "    for y in range(1,10):\n",
    "        z = x * y\n",
    "        f3.write('%d x %d = %d\\n' % (x,y,z))\n",
    "        \n",
    "f3.close()        \n"
   ]
  },
  {
   "cell_type": "code",
   "execution_count": 26,
   "metadata": {},
   "outputs": [
    {
     "name": "stdout",
     "output_type": "stream",
     "text": [
      "2단\n",
      "%d x %d = %d\n",
      "%d x %d = %d\n",
      "%d x %d = %d\n",
      "%d x %d = %d\n",
      "%d x %d = %d\n",
      "%d x %d = %d\n",
      "%d x %d = %d\n",
      "%d x %d = %d\n",
      "%d x %d = %d\n",
      "3단\n",
      "%d x %d = %d\n",
      "%d x %d = %d\n",
      "%d x %d = %d\n",
      "%d x %d = %d\n",
      "%d x %d = %d\n",
      "%d x %d = %d\n",
      "%d x %d = %d\n",
      "%d x %d = %d\n",
      "%d x %d = %d\n",
      "4단\n",
      "%d x %d = %d\n",
      "%d x %d = %d\n",
      "%d x %d = %d\n",
      "%d x %d = %d\n",
      "%d x %d = %d\n",
      "%d x %d = %d\n",
      "%d x %d = %d\n",
      "%d x %d = %d\n",
      "%d x %d = %d\n",
      "5단\n",
      "%d x %d = %d\n",
      "%d x %d = %d\n",
      "%d x %d = %d\n",
      "%d x %d = %d\n",
      "%d x %d = %d\n",
      "%d x %d = %d\n",
      "%d x %d = %d\n",
      "%d x %d = %d\n",
      "%d x %d = %d\n",
      "6단\n",
      "%d x %d = %d\n",
      "%d x %d = %d\n",
      "%d x %d = %d\n",
      "%d x %d = %d\n",
      "%d x %d = %d\n",
      "%d x %d = %d\n",
      "%d x %d = %d\n",
      "%d x %d = %d\n",
      "%d x %d = %d\n",
      "7단\n",
      "%d x %d = %d\n",
      "%d x %d = %d\n",
      "%d x %d = %d\n",
      "%d x %d = %d\n",
      "%d x %d = %d\n",
      "%d x %d = %d\n",
      "%d x %d = %d\n",
      "%d x %d = %d\n",
      "%d x %d = %d\n",
      "8단\n",
      "%d x %d = %d\n",
      "%d x %d = %d\n",
      "%d x %d = %d\n",
      "%d x %d = %d\n",
      "%d x %d = %d\n",
      "%d x %d = %d\n",
      "%d x %d = %d\n",
      "%d x %d = %d\n",
      "%d x %d = %d\n",
      "9단\n",
      "%d x %d = %d\n",
      "%d x %d = %d\n",
      "%d x %d = %d\n",
      "%d x %d = %d\n",
      "%d x %d = %d\n",
      "%d x %d = %d\n",
      "%d x %d = %d\n",
      "%d x %d = %d\n",
      "%d x %d = %d\n",
      "\n"
     ]
    }
   ],
   "source": [
    "# 파일 읽기\n",
    "f4 = open('C:/Users/java1/Desktop/test.txt',mode='r', encoding='UTF-8')\n",
    "\n",
    "while True:\n",
    "\n",
    "    line = f4.read()\n",
    "    if not line:\n",
    "        break\n",
    "        \n",
    "    print(line)\n",
    "\n",
    "f4.close()"
   ]
  }
 ],
 "metadata": {
  "kernelspec": {
   "display_name": "Python 3",
   "language": "python",
   "name": "python3"
  },
  "language_info": {
   "codemirror_mode": {
    "name": "ipython",
    "version": 3
   },
   "file_extension": ".py",
   "mimetype": "text/x-python",
   "name": "python",
   "nbconvert_exporter": "python",
   "pygments_lexer": "ipython3",
   "version": "3.11.1"
  },
  "orig_nbformat": 4,
  "vscode": {
   "interpreter": {
    "hash": "ca3167030a8377a7b82d5e665b459d458267ba920e721652be188ae573e682bb"
   }
  }
 },
 "nbformat": 4,
 "nbformat_minor": 2
}
