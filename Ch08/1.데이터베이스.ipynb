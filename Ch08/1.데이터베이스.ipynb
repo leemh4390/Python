{
 "cells": [
  {
   "cell_type": "code",
   "execution_count": 2,
   "metadata": {},
   "outputs": [],
   "source": [
    "\"\"\"\n",
    "    날짜 : 2023/01/13\n",
    "    이름 : 이민혁\n",
    "    내용 : 파이썬 데이터베이스 프로그래밍 실습하기\n",
    "\"\"\"\n",
    "\n",
    "import pymysql"
   ]
  },
  {
   "cell_type": "code",
   "execution_count": 9,
   "metadata": {},
   "outputs": [],
   "source": [
    "# insert 실습\n",
    "\n",
    "conn = pymysql.connect(host ='127.0.0.1',\n",
    "                       user='root',\n",
    "                       password='1234', \n",
    "                       db = 'java1db', \n",
    "                       charset = 'utf8')\n",
    "\n",
    "# SQL 실행객체\n",
    "cur = conn.cursor()\n",
    "\n",
    "# SQL 실행\n",
    "sql = \"insert into `user1` values ('p101','1234','파이썬','010-1234-1234','20')\"\n",
    "cur.execute(sql)\n",
    "conn.commit()\n",
    "\n",
    "# 데이터베이스 종료\n",
    "conn.close()"
   ]
  },
  {
   "cell_type": "code",
   "execution_count": 17,
   "metadata": {},
   "outputs": [],
   "source": [
    "# update 실습\n",
    "conn = pymysql.connect(host ='127.0.0.1',\n",
    "                       user='root',\n",
    "                       password='1234', \n",
    "                       db = 'java1db', \n",
    "                       charset = 'utf8')\n",
    "\n",
    "# SQL 실행객체\n",
    "cur = conn.cursor()\n",
    "\n",
    "# SQL 실행\n",
    "sql = \"update `user1` set `name` = '홍길동', `hp` = '010-1234-1234',`age` = 27 where `uid` = 'a101';\"\n",
    "cur.execute(sql)\n",
    "conn.commit()\n",
    "\n",
    "# 데이터베이스 종료\n",
    "conn.close()\n"
   ]
  },
  {
   "cell_type": "code",
   "execution_count": 15,
   "metadata": {},
   "outputs": [],
   "source": [
    "# update 실습\n",
    "conn = pymysql.connect(host ='127.0.0.1',\n",
    "                       user='root',\n",
    "                       password='1234', \n",
    "                       db = 'java1db', \n",
    "                       charset = 'utf8')\n",
    "\n",
    "# SQL 실행객체\n",
    "cur = conn.cursor()\n",
    "\n",
    "# SQL 실행\n",
    "sql = \"delete from `user1` where `uid` = 'p101';\"\n",
    "cur.execute(sql)\n",
    "conn.commit()\n",
    "\n",
    "# 데이터베이스 종료\n",
    "conn.close()"
   ]
  },
  {
   "cell_type": "code",
   "execution_count": 18,
   "metadata": {},
   "outputs": [
    {
     "name": "stdout",
     "output_type": "stream",
     "text": [
      "1-------------\n",
      "아이디 :  A101\n",
      "비밀번호 :  1234\n",
      "이름 :  홍길동\n",
      "휴대폰 :  010-1234-1234\n",
      "나이 :  27\n",
      "1-------------\n",
      "아이디 :  A102\n",
      "비밀번호 :  1234\n",
      "이름 :  김춘추\n",
      "휴대폰 :  010-1234-2222\n",
      "나이 :  23\n",
      "1-------------\n",
      "아이디 :  A103\n",
      "비밀번호 :  1234\n",
      "이름 :  장보고\n",
      "휴대폰 :  010-1234-3333\n",
      "나이 :  32\n",
      "1-------------\n",
      "아이디 :  A104\n",
      "비밀번호 :  1234\n",
      "이름 :  강감찬\n",
      "휴대폰 :  010-1234-4444\n",
      "나이 :  45\n",
      "1-------------\n",
      "아이디 :  A105\n",
      "비밀번호 :  1234\n",
      "이름 :  이순신\n",
      "휴대폰 :  010-1234-5555\n",
      "나이 :  51\n",
      "1-------------\n",
      "아이디 :  a1111\n",
      "비밀번호 :  1234\n",
      "이름 :  마이바티스\n",
      "휴대폰 :  010-4390-0810\n",
      "나이 :  23\n",
      "1-------------\n",
      "아이디 :  Test\n",
      "비밀번호 :  1234\n",
      "이름 :  test\n",
      "휴대폰 :  010-4390-0810\n",
      "나이 :  12\n",
      "1-------------\n",
      "아이디 :  test1\n",
      "비밀번호 :  1234\n",
      "이름 :  이민혁1\n",
      "휴대폰 :  010-4390-0811\n",
      "나이 :  23\n",
      "select 종료...\n"
     ]
    }
   ],
   "source": [
    "# select 실습\n",
    "conn = pymysql.connect(host ='127.0.0.1',\n",
    "                       user='root',\n",
    "                       password='1234', \n",
    "                       db = 'java1db', \n",
    "                       charset = 'utf8')\n",
    "\n",
    "cur = conn.cursor()\n",
    "\n",
    "sql = \"select * from `user1`;\"\n",
    "\n",
    "cur.execute(sql)\n",
    "\n",
    "conn.commit()\n",
    "\n",
    "#데이터 출력\n",
    "\n",
    "user = []\n",
    "\n",
    "for row in cur.fetchall():\n",
    "    print('1-------------')\n",
    "    print('아이디 : ', row[0])\n",
    "    print('비밀번호 : ', row[1])\n",
    "    print('이름 : ', row[2])\n",
    "    print('휴대폰 : ', row[3])\n",
    "    print('나이 : ', row[4])\n",
    "\n",
    "conn.close()\n",
    "\n",
    "print('select 종료...')"
   ]
  }
 ],
 "metadata": {
  "kernelspec": {
   "display_name": "Python 3",
   "language": "python",
   "name": "python3"
  },
  "language_info": {
   "codemirror_mode": {
    "name": "ipython",
    "version": 3
   },
   "file_extension": ".py",
   "mimetype": "text/x-python",
   "name": "python",
   "nbconvert_exporter": "python",
   "pygments_lexer": "ipython3",
   "version": "3.11.1"
  },
  "orig_nbformat": 4,
  "vscode": {
   "interpreter": {
    "hash": "ca3167030a8377a7b82d5e665b459d458267ba920e721652be188ae573e682bb"
   }
  }
 },
 "nbformat": 4,
 "nbformat_minor": 2
}
